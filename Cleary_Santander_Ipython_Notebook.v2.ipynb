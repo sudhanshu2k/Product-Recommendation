{
 "cells": [
  {
   "cell_type": "markdown",
   "metadata": {},
   "source": [
    "## Santander Product Recommendation \n",
    "### Kaggle Competition\n",
    "### Brain Cleary  "
   ]
  },
  {
   "cell_type": "code",
   "execution_count": 1,
   "metadata": {
    "collapsed": false
   },
   "outputs": [
    {
     "name": "stdout",
     "output_type": "stream",
     "text": [
      "Populating the interactive namespace from numpy and matplotlib\n"
     ]
    }
   ],
   "source": [
    "from numpy import loadtxt\n",
    "import numpy as np\n",
    "import pandas as pd\n",
    "import seaborn as sns\n",
    "import matplotlib.pyplot as plt\n",
    "%pylab inline\n",
    "pylab.rcParams['figure.figsize'] = (10, 6)\n",
    "color = sns.color_palette()\n",
    "import xgboost as xgb\n",
    "from xgboost import XGBClassifier\n",
    "from sklearn.cross_validation import KFold, cross_val_score,StratifiedKFold, train_test_split\n",
    "from sklearn.grid_search import GridSearchCV\n",
    "import csv\n",
    "import datetime \n",
    "from operator import sub\n",
    "from collections import Counter\n",
    "from sklearn.linear_model import LogisticRegression\n",
    "from sklearn.decomposition import PCA\n",
    "from sklearn.preprocessing import StandardScaler\n",
    "from sklearn.svm import SVC\n",
    "from sklearn.metrics import log_loss, accuracy_score\n",
    "import datetime\n",
    "from sklearn import preprocessing, ensemble\n",
    "from sklearn.naive_bayes import GaussianNB\n",
    "from sklearn.cross_validation import StratifiedKFold\n",
    "from sklearn.ensemble import RandomForestClassifier"
   ]
  },
  {
   "cell_type": "code",
   "execution_count": 2,
   "metadata": {
    "collapsed": false
   },
   "outputs": [
    {
     "name": "stderr",
     "output_type": "stream",
     "text": [
      "/Users/bcleary21/anaconda/envs/py27/lib/python2.7/site-packages/pandas/io/parsers.py:1170: DtypeWarning: Columns (5,8,11,15) have mixed types. Specify dtype option on import or set low_memory=False.\n",
      "  data = self._reader.read(nrows)\n",
      "/Users/bcleary21/anaconda/envs/py27/lib/python2.7/site-packages/pandas/io/parsers.py:1170: DtypeWarning: Columns (15) have mixed types. Specify dtype option on import or set low_memory=False.\n",
      "  data = self._reader.read(nrows)\n"
     ]
    }
   ],
   "source": [
    "original_train = pd.read_csv(\"train_ver2.csv\")\n",
    "original_test = pd.read_csv(\"test_ver2.csv\")"
   ]
  },
  {
   "cell_type": "markdown",
   "metadata": {},
   "source": [
    "## Exploratory Data Visualization"
   ]
  },
  {
   "cell_type": "code",
   "execution_count": 3,
   "metadata": {
    "collapsed": false
   },
   "outputs": [
    {
     "name": "stdout",
     "output_type": "stream",
     "text": [
      "Total rows Training: 13647309\n",
      "Total rows Test: 929615\n"
     ]
    }
   ],
   "source": [
    "df_train = original_train\n",
    "df_test = original_test\n",
    "print(\"Total rows Training: {0}\".format(len(df_train)))\n",
    "print(\"Total rows Test: {0}\".format(len(df_test)))"
   ]
  },
  {
   "cell_type": "code",
   "execution_count": 4,
   "metadata": {
    "collapsed": false
   },
   "outputs": [],
   "source": [
    "# Defining a variable for the categorical values \n",
    "cat_cols = ['ind_empleado','sexo','ind_nuevo','indrel','indrel_1mes',\n",
    "            'tiprel_1mes','indresi','indext','conyuemp','indfall',\n",
    "            'tipodom','ind_actividad_cliente','segmento',\n",
    "            'pais_residencia','canal_entrada']"
   ]
  },
  {
   "cell_type": "code",
   "execution_count": 5,
   "metadata": {
    "collapsed": false
   },
   "outputs": [],
   "source": [
    "#  Selected the first 24 columns for features and remailning columns \n",
    "#  as product columns. Both of these columns will be used to predict Y, \n",
    "#  which will be the products that were added in the subsequent month. \n",
    "\n",
    "product_cols = list(df_train.iloc[:,24:]) \n",
    "target_cols = product_cols[:]\n",
    "numeric_cols = ['age','antiguedad','renta','cod_prov']\n",
    "features_scale = cat_cols+numeric_cols\n",
    "features_scale2 = cat_cols+numeric_cols+target_cols"
   ]
  },
  {
   "cell_type": "code",
   "execution_count": 6,
   "metadata": {
    "collapsed": false
   },
   "outputs": [
    {
     "name": "stdout",
     "output_type": "stream",
     "text": [
      "Descriptive Statistics on Training Data\n"
     ]
    },
    {
     "data": {
      "text/html": [
       "<div>\n",
       "<table border=\"1\" class=\"dataframe\">\n",
       "  <thead>\n",
       "    <tr style=\"text-align: right;\">\n",
       "      <th></th>\n",
       "      <th>renta</th>\n",
       "      <th>cod_prov</th>\n",
       "    </tr>\n",
       "  </thead>\n",
       "  <tbody>\n",
       "    <tr>\n",
       "      <th>count</th>\n",
       "      <td>10852934.000000</td>\n",
       "      <td>13553718.000000</td>\n",
       "    </tr>\n",
       "    <tr>\n",
       "      <th>mean</th>\n",
       "      <td>134254.318238</td>\n",
       "      <td>26.571470</td>\n",
       "    </tr>\n",
       "    <tr>\n",
       "      <th>std</th>\n",
       "      <td>230620.238822</td>\n",
       "      <td>12.784017</td>\n",
       "    </tr>\n",
       "    <tr>\n",
       "      <th>min</th>\n",
       "      <td>1202.730000</td>\n",
       "      <td>1.000000</td>\n",
       "    </tr>\n",
       "    <tr>\n",
       "      <th>25%</th>\n",
       "      <td>68710.980000</td>\n",
       "      <td>15.000000</td>\n",
       "    </tr>\n",
       "    <tr>\n",
       "      <th>50%</th>\n",
       "      <td>101850.000000</td>\n",
       "      <td>28.000000</td>\n",
       "    </tr>\n",
       "    <tr>\n",
       "      <th>75%</th>\n",
       "      <td>155955.960000</td>\n",
       "      <td>35.000000</td>\n",
       "    </tr>\n",
       "    <tr>\n",
       "      <th>max</th>\n",
       "      <td>28894395.510000</td>\n",
       "      <td>52.000000</td>\n",
       "    </tr>\n",
       "  </tbody>\n",
       "</table>\n",
       "</div>"
      ],
      "text/plain": [
       "                 renta         cod_prov\n",
       "count  10852934.000000  13553718.000000\n",
       "mean     134254.318238        26.571470\n",
       "std      230620.238822        12.784017\n",
       "min        1202.730000         1.000000\n",
       "25%       68710.980000        15.000000\n",
       "50%      101850.000000        28.000000\n",
       "75%      155955.960000        35.000000\n",
       "max    28894395.510000        52.000000"
      ]
     },
     "execution_count": 6,
     "metadata": {},
     "output_type": "execute_result"
    }
   ],
   "source": [
    "print(\"Descriptive Statistics on Training Data\")\n",
    "df_train[numeric_cols].describe()"
   ]
  },
  {
   "cell_type": "code",
   "execution_count": 7,
   "metadata": {
    "collapsed": false
   },
   "outputs": [
    {
     "name": "stdout",
     "output_type": "stream",
     "text": [
      "Descriptive Statistics on the Kaggle Prediction Data\n"
     ]
    },
    {
     "data": {
      "text/html": [
       "<div>\n",
       "<table border=\"1\" class=\"dataframe\">\n",
       "  <thead>\n",
       "    <tr style=\"text-align: right;\">\n",
       "      <th></th>\n",
       "      <th>age</th>\n",
       "      <th>antiguedad</th>\n",
       "      <th>cod_prov</th>\n",
       "    </tr>\n",
       "  </thead>\n",
       "  <tbody>\n",
       "    <tr>\n",
       "      <th>count</th>\n",
       "      <td>929615.000000</td>\n",
       "      <td>929615.000000</td>\n",
       "      <td>925619.000000</td>\n",
       "    </tr>\n",
       "    <tr>\n",
       "      <th>mean</th>\n",
       "      <td>40.249821</td>\n",
       "      <td>77.728413</td>\n",
       "      <td>26.546150</td>\n",
       "    </tr>\n",
       "    <tr>\n",
       "      <th>std</th>\n",
       "      <td>17.185119</td>\n",
       "      <td>1797.824518</td>\n",
       "      <td>12.836614</td>\n",
       "    </tr>\n",
       "    <tr>\n",
       "      <th>min</th>\n",
       "      <td>2.000000</td>\n",
       "      <td>-999999.000000</td>\n",
       "      <td>1.000000</td>\n",
       "    </tr>\n",
       "    <tr>\n",
       "      <th>25%</th>\n",
       "      <td>25.000000</td>\n",
       "      <td>23.000000</td>\n",
       "      <td>15.000000</td>\n",
       "    </tr>\n",
       "    <tr>\n",
       "      <th>50%</th>\n",
       "      <td>39.000000</td>\n",
       "      <td>55.000000</td>\n",
       "      <td>28.000000</td>\n",
       "    </tr>\n",
       "    <tr>\n",
       "      <th>75%</th>\n",
       "      <td>51.000000</td>\n",
       "      <td>136.000000</td>\n",
       "      <td>35.000000</td>\n",
       "    </tr>\n",
       "    <tr>\n",
       "      <th>max</th>\n",
       "      <td>164.000000</td>\n",
       "      <td>257.000000</td>\n",
       "      <td>52.000000</td>\n",
       "    </tr>\n",
       "  </tbody>\n",
       "</table>\n",
       "</div>"
      ],
      "text/plain": [
       "                 age     antiguedad       cod_prov\n",
       "count  929615.000000  929615.000000  925619.000000\n",
       "mean       40.249821      77.728413      26.546150\n",
       "std        17.185119    1797.824518      12.836614\n",
       "min         2.000000 -999999.000000       1.000000\n",
       "25%        25.000000      23.000000      15.000000\n",
       "50%        39.000000      55.000000      28.000000\n",
       "75%        51.000000     136.000000      35.000000\n",
       "max       164.000000     257.000000      52.000000"
      ]
     },
     "execution_count": 7,
     "metadata": {},
     "output_type": "execute_result"
    }
   ],
   "source": [
    "print(\"Descriptive Statistics on the Kaggle Prediction Data\")\n",
    "df_test[numeric_cols].describe()"
   ]
  },
  {
   "cell_type": "code",
   "execution_count": 8,
   "metadata": {
    "collapsed": true
   },
   "outputs": [],
   "source": [
    "# Function to gather the values of product columns--filling in \n",
    "# Null and \"NA\" so that I can compare which were added.  If I \n",
    "# do not do this, I can not reduce the dataset to only the customers \n",
    "# who added a product in a subsequent month. \n",
    "\n",
    "def getProduct(row):\n",
    "    tlist = []\n",
    "    for col in target_cols:\n",
    "        if row[col].strip() in ['', 'NA']:\n",
    "            target = 0\n",
    "        else:\n",
    "            target = int(float(row[col]))\n",
    "        tlist.append(target)\n",
    "    return tlist\n",
    "\n",
    "# Function to gather values from the features column as is.  Null and \n",
    "# NA will be handled later to preserve information. \n",
    "\n",
    "def getCategorical(row, col):\n",
    "    cat = row[col].strip()\n",
    "    if cat not in ['','NA']:\n",
    "        ind = cat\n",
    "    else:\n",
    "        ind = 'Unknown_Value'\n",
    "    return ind\n",
    "\n",
    "def getNumerical(row,col):\n",
    "    numeric = row[col].strip()\n",
    "    if numeric == 'NA' or numeric == '' or numeric == 'None':\n",
    "        numeric = -1\n",
    "    else:\n",
    "        numeric = float64(numeric)\n",
    "    return numeric\n",
    "        \n",
    "# This function allows me to create a data frame by only any given month\n",
    "# to the subsequent month, allowing me model only rows which the users \n",
    "# added a product. The baseline will be trained on products added in June\n",
    "# 2015 that were not present May 2015 to address seasonality.  I will check\n",
    "# if any other months help or hurt this baseline. \n",
    "\n",
    "def processData(in_file_name, cust_dict):\n",
    "    x_vars_list = []\n",
    "    y_vars_list = []\n",
    "    for row in csv.DictReader(in_file_name):\n",
    "        if row['fecha_dato'] not in ['2015-05-28','2015-06-28', '2016-05-28', '2016-06-28']:\n",
    "            continue\n",
    "\n",
    "        cust_id = int(row['ncodpers'])\n",
    "        if row['fecha_dato'] in ['2015-05-28','2016-05-28']:\n",
    "            target_list = getProduct(row)\n",
    "            cust_dict[cust_id] =  target_list[:]\n",
    "            continue\n",
    "\n",
    "        x_vars = []\n",
    "        for col in cat_cols:\n",
    "            x_vars.append(getCategorical(row, col))\n",
    "        for col in numeric_cols:\n",
    "            x_vars.append(getNumerical(row,col))\n",
    "\n",
    "        if row['fecha_dato'] == '2016-06-28':\n",
    "            prev_target_list = cust_dict.get(cust_id, [0]*24)\n",
    "            x_vars_list.append(x_vars + prev_target_list)\n",
    "        elif row['fecha_dato'] == '2015-06-28':\n",
    "            prev_target_list = cust_dict.get(cust_id, [0]*24)\n",
    "            target_list = getProduct(row)\n",
    "            new_products = [max(x1 - x2,0) for (x1, x2) in zip(target_list, prev_target_list)]\n",
    "            if sum(new_products) > 0:\n",
    "                for ind, prod in enumerate(new_products):\n",
    "                    if prod>0:\n",
    "                        assert len(prev_target_list) == 24\n",
    "                        x_vars_list.append(x_vars+prev_target_list)\n",
    "                        y_vars_list.append(ind)\n",
    "\n",
    "    return x_vars_list, y_vars_list, cust_dict"
   ]
  },
  {
   "cell_type": "code",
   "execution_count": 9,
   "metadata": {
    "collapsed": false
   },
   "outputs": [],
   "source": [
    "data_path = \"/Users/bcleary21/Santander_project/\"\n",
    "train_file =  open(data_path + \"train_ver2.csv\")\n",
    "\n",
    "# Select only customers with product in May 2015 that added one in June 2015 to \n",
    "# match seasonality with the actual Kaggle June predictions. Create a Y column based on the \n",
    "# products using numbers to represent each possible product \n",
    "x_vars_list, y_vars_list, cust_dict = processData(train_file, {})\n",
    "train_X = np.array(x_vars_list)\n",
    "train_y = np.array(y_vars_list)\n"
   ]
  },
  {
   "cell_type": "code",
   "execution_count": 10,
   "metadata": {
    "collapsed": false
   },
   "outputs": [
    {
     "data": {
      "text/plain": [
       "['Product 2 has 9457 unique values',\n",
       " 'Product 3 has  9 unique values',\n",
       " 'Product 4 has 1934 unique values',\n",
       " 'Product 5 has 55 unique values',\n",
       " 'Product 6 has 349 unique values',\n",
       " 'Product 7 has 222 unique values',\n",
       " 'Product 8 has 154 unique values',\n",
       " 'Product 9 has 503 unique values',\n",
       " 'Product 10 has 33 unique values',\n",
       " 'Product 11 has 1085 unique values',\n",
       " 'Product 12 has 1219 unique values',\n",
       " 'Product 13 has 246 unique values',\n",
       " 'Product 14 has  4 unique values',\n",
       " 'Product 15 has 21 unique values',\n",
       " 'Product 16 has  8 unique values',\n",
       " 'Product 17 has 2942 unique values',\n",
       " 'Product 18 has 4755 unique values',\n",
       " 'Product 19 has 159 unique values',\n",
       " 'Product 20 has  3 unique values',\n",
       " 'Product 21 has 5161 unique values',\n",
       " 'Product 22 has 8229 unique values',\n",
       " 'Product 23 has 9131 unique values']"
      ]
     },
     "execution_count": 10,
     "metadata": {},
     "output_type": "execute_result"
    }
   ],
   "source": [
    "# check if the all products are represented in the Y variable\n",
    "index_Y = Counter(train_y).keys() # equals to list(set(words))\n",
    "val_Y = Counter(train_y).values() # counts the elements' frequency\n",
    "\n",
    "# check to see if all products have been added. \n",
    "Vals = [\"Product {} has {:2} unique values\".format(index_Y_,val_Y_) for val_Y_,index_Y_ in zip(val_Y,index_Y)]\n",
    "Vals"
   ]
  },
  {
   "cell_type": "code",
   "execution_count": 11,
   "metadata": {
    "collapsed": false
   },
   "outputs": [
    {
     "name": "stdout",
     "output_type": "stream",
     "text": [
      "((45679, 43), (45679,))\n"
     ]
    }
   ],
   "source": [
    "# product 0 and 1 (python is zero-based) have not been added. Drop\n",
    "# the first to products from my target_columns list\n",
    "target_cols = product_cols[2:]\n",
    "\n",
    "feature_cols = cat_cols+numeric_cols+product_cols\n",
    "features_mod_TRAIN = pd.DataFrame(train_X, columns = feature_cols)\n",
    "response_mod_TRAIN = pd.DataFrame(train_y, columns = ['Y_vars'])\n",
    "\n",
    "# features_mod_TRAIN.iloc[:,2:20].head(100)\n",
    "del x_vars_list, y_vars_list\n",
    "train_file.close()\n",
    "print(train_X.shape, train_y.shape)\n",
    "\n",
    "for col in features_mod_TRAIN.columns[15:]:\n",
    "    features_mod_TRAIN[col] = features_mod_TRAIN[col].astype('float')\n",
    "    \n",
    "df_May_June2015 = pd.concat([features_mod_TRAIN,response_mod_TRAIN], axis=1)"
   ]
  },
  {
   "cell_type": "code",
   "execution_count": 12,
   "metadata": {
    "collapsed": false
   },
   "outputs": [],
   "source": [
    "test_file = open(data_path + \"test_ver2.csv\")   \n",
    "x_vars_list, y_vars_list, cust_dict = processData(test_file, cust_dict)\n",
    "test_X = np.array(x_vars_list)"
   ]
  },
  {
   "cell_type": "code",
   "execution_count": 13,
   "metadata": {
    "collapsed": false
   },
   "outputs": [],
   "source": [
    "df_June2016_PREDICT = pd.DataFrame(test_X, columns = feature_cols)\n",
    "\n",
    "for cols in df_June2016_PREDICT.columns[15:]:\n",
    "    df_June2016_PREDICT[cols] = df_June2016_PREDICT[cols].astype('float')"
   ]
  },
  {
   "cell_type": "code",
   "execution_count": 14,
   "metadata": {
    "collapsed": false
   },
   "outputs": [
    {
     "name": "stdout",
     "output_type": "stream",
     "text": [
      "Unique values for ind_empleado:\n",
      "['N' 'Unknown_Value' 'A' 'F' 'B']\n",
      "\n",
      "Unique values for sexo:\n",
      "['V' 'H' 'Unknown_Value']\n",
      "\n",
      "Unique values for ind_nuevo:\n",
      "['0' '1' 'Unknown_Value']\n",
      "\n",
      "Unique values for indrel:\n",
      "['1' '99' 'Unknown_Value']\n",
      "\n",
      "Unique values for indrel_1mes:\n",
      "['1' '1.0' 'Unknown_Value' '3.0']\n",
      "\n",
      "Unique values for tiprel_1mes:\n",
      "['I' 'A' 'Unknown_Value' 'P']\n",
      "\n",
      "Unique values for indresi:\n",
      "['S' 'N' 'Unknown_Value']\n",
      "\n",
      "Unique values for indext:\n",
      "['N' 'S' 'Unknown_Value']\n",
      "\n",
      "Unique values for conyuemp:\n",
      "['Unknown_Value' 'N']\n",
      "\n",
      "Unique values for indfall:\n",
      "['N' 'Unknown_Value' 'S']\n",
      "\n",
      "Unique values for tipodom:\n",
      "['1' 'Unknown_Value']\n",
      "\n",
      "Unique values for ind_actividad_cliente:\n",
      "['1' '0' 'Unknown_Value']\n",
      "\n",
      "Unique values for segmento:\n",
      "['03 - UNIVERSITARIO' '02 - PARTICULARES' '01 - TOP' 'Unknown_Value']\n",
      "\n",
      "Unique values for pais_residencia:\n",
      "['ES' 'AT' 'Unknown_Value' 'GB' 'FR' 'CH' 'DE' 'AR' 'VE' 'BR' 'IT' 'NL'\n",
      " 'GA' 'MX' 'AD' 'US' 'PE' 'GR' 'PT' 'CL' 'PA' 'MA' 'BE' 'GQ' 'AU' 'SG' 'NG'\n",
      " 'OM' 'PL' 'FI' 'CO' 'DO']\n",
      "\n",
      "Unique values for canal_entrada:\n",
      "['KHE' 'KFC' 'KAT' 'KFA' 'KHC' 'KHD' 'KHN' 'KHK' 'KAZ' 'RED' 'KHL'\n",
      " 'Unknown_Value' 'KHM' 'KHO' 'KEH' 'KGX' 'KAH' 'KAR' 'KAA' 'KFD' 'KFJ'\n",
      " 'KAI' 'KAG' 'KAE' 'KFK' 'KAJ' 'KCC' 'KFF' 'KAQ' 'KFP' 'KGV' 'KFS' 'KAB'\n",
      " 'KHF' 'KBG' 'KDR' 'KDT' 'KBU' 'KBZ' 'KCG' '007' 'KBQ' 'KCL' 'KAY' 'KBO'\n",
      " 'KAS' 'KAC' 'KCM' 'KAD' 'KCB' 'KCA' 'KDO' 'KCD' '013' 'KDA' 'KAF' 'KES'\n",
      " 'KCI' 'KBH' 'KDQ' 'KBD' 'KBV' 'KBR' 'KBF' 'KCH' 'KAM' 'KCV' 'KCK' 'KDC'\n",
      " 'KDP' 'KDD' 'KCN' 'KBW' 'KDY' 'KBL' 'KCE' 'KDE' 'KDF' 'KCP' 'KBY' 'KDH'\n",
      " 'KEY' 'KEZ' '004' 'KEJ' 'KFT' 'KAO' 'KFH' 'KAW' 'KBM' 'KEG' 'KDM' 'KEB'\n",
      " 'KED' 'KAU' 'KAP' 'KFN' 'KGY' 'KEN' 'KAL' 'KFG' 'KFL' 'KFU' 'KFM' 'KGW'\n",
      " 'KFI' 'KAK' 'KAN' 'KDW' 'KBB' 'KEE' 'KEK' 'KBJ' 'KCQ' 'KEL' 'KEO' 'KBS'\n",
      " 'KCJ']\n",
      "\n"
     ]
    }
   ],
   "source": [
    "string_data = df_May_June2015.select_dtypes(include=[\"object\"])\n",
    "for col in string_data:\n",
    "    print(\"Unique values for {0}:\\n{1}\\n\".format(col,string_data[col].unique()))\n",
    "del string_data"
   ]
  },
  {
   "cell_type": "code",
   "execution_count": 15,
   "metadata": {
    "collapsed": false
   },
   "outputs": [
    {
     "name": "stdout",
     "output_type": "stream",
     "text": [
      "Unique values for ind_empleado:\n",
      "['F' 'N' 'A' 'B' 'S']\n",
      "\n",
      "Unique values for sexo:\n",
      "['V' 'H' 'Unknown_Value']\n",
      "\n",
      "Unique values for ind_nuevo:\n",
      "['0' '1']\n",
      "\n",
      "Unique values for indrel:\n",
      "['1' '99']\n",
      "\n",
      "Unique values for indrel_1mes:\n",
      "['1' '1.0' '3.0' '3' 'Unknown_Value']\n",
      "\n",
      "Unique values for tiprel_1mes:\n",
      "['A' 'I' 'P' 'Unknown_Value']\n",
      "\n",
      "Unique values for indresi:\n",
      "['S' 'N']\n",
      "\n",
      "Unique values for indext:\n",
      "['N' 'S']\n",
      "\n",
      "Unique values for conyuemp:\n",
      "['N' 'Unknown_Value' 'S']\n",
      "\n",
      "Unique values for indfall:\n",
      "['N' 'S']\n",
      "\n",
      "Unique values for tipodom:\n",
      "['1']\n",
      "\n",
      "Unique values for ind_actividad_cliente:\n",
      "['1' '0']\n",
      "\n",
      "Unique values for segmento:\n",
      "['01 - TOP' '02 - PARTICULARES' '03 - UNIVERSITARIO' 'Unknown_Value']\n",
      "\n",
      "Unique values for pais_residencia:\n",
      "['ES' 'CH' 'DE' 'GB' 'BE' 'DJ' 'IE' 'QA' 'US' 'VE' 'DO' 'SE' 'AR' 'CA' 'PL'\n",
      " 'CN' 'CM' 'FR' 'AT' 'RO' 'LU' 'PT' 'CL' 'IT' 'MR' 'MX' 'SN' 'BR' 'CO' 'PE'\n",
      " 'RU' 'LT' 'EE' 'MA' 'HN' 'BG' 'NO' 'GT' 'UA' 'NL' 'GA' 'IL' 'JP' 'EC' 'IN'\n",
      " 'DZ' 'ET' 'SA' 'HU' 'JM' 'CI' 'CU' 'BO' 'TG' 'TN' 'NG' 'AU' 'GR' 'DK' 'LB'\n",
      " 'UY' 'TH' 'SG' 'MD' 'SK' 'AD' 'BY' 'HK' 'HR' 'EG' 'GQ' 'PR' 'ZA' 'PA' 'KE'\n",
      " 'TR' 'FI' 'BA' 'SV' 'PY' 'PK' 'KR' 'AO' 'GN' 'IS' 'TW' 'MK' 'VN' 'CZ' 'CR'\n",
      " 'MZ' 'MT' 'LY' 'GH' 'KH' 'AE' 'RS' 'OM' 'GE' 'NI' 'GI' 'NZ' 'MM' 'PH' 'KW'\n",
      " 'BM' 'CG' 'ML' 'AL' 'ZW' 'CF' 'GM' 'CD' 'BZ' 'KZ' 'GW' 'SL' 'LV']\n",
      "\n",
      "Unique values for canal_entrada:\n",
      "['KAT' 'KHE' 'KFC' 'KHN' 'KFA' 'KHM' 'KHL' 'RED' 'KHQ' 'KHO' 'KHK' 'KAZ'\n",
      " 'KEH' 'KBG' 'KHF' 'KHC' 'KHD' 'Unknown_Value' 'KAK' 'KAD' 'KDH' 'KGC'\n",
      " 'KFK' 'KGN' 'KHP' 'KHS' '013' 'KFD' 'KEW' 'KEG' 'KAE' 'KAB' 'KAG' 'KCC'\n",
      " 'KAF' 'KAC' 'KAY' 'KES' 'KDU' 'KAA' 'KAP' 'KEN' 'KBZ' 'KEY' '007' 'KBJ'\n",
      " 'KDM' 'KFP' 'KDR' 'KAN' 'KEV' 'KCH' 'KAR' 'KAI' 'KAS' 'KCI' 'KFJ' 'KCF'\n",
      " 'KAQ' 'KAJ' 'KEJ' 'KEL' 'KFT' '025' 'KAH' 'KAW' 'KFS' 'KDT' 'KGV' 'KFG'\n",
      " 'KAL' 'KGY' 'KCM' 'KCB' 'KDQ' 'KFN' 'KGX' 'KBR' 'KEZ' 'KCG' 'KAO' 'KEU'\n",
      " 'KCL' 'KBM' 'KFF' 'KFI' 'KFL' 'KFH' 'KCU' 'KBH' 'KBB' 'KCO' 'KEI' 'KDY'\n",
      " 'KCD' 'KBO' 'KEA' 'KBL' 'KDO' 'KCA' 'KBU' 'KBQ' 'KDV' 'KCK' 'KDC' '004'\n",
      " 'KCE' 'KDE' 'KEC' 'KDX' 'KDA' 'KDS' 'KFU' 'KEB' 'KDG' 'KAM' 'KDF' 'KCN'\n",
      " 'KDZ' 'KCS' 'KCR' 'KDW' 'KEO' 'KFM' 'KEK' 'KED' 'KDN' 'KBF' 'KGW' 'KCQ'\n",
      " 'KEQ' 'KBW' 'KBE' 'KAV' 'KBY' 'KFV' 'KBS' 'KDP' 'KFE' 'KBD' 'KBV' 'KDD'\n",
      " 'KEF' 'KCP' 'KBX' 'KDB' 'KBN' 'KCT' 'KCV' 'KBP' 'KCX' 'KAU' 'KFR' 'KDI'\n",
      " 'KFB' 'KGU' 'KHA' 'K00' 'KEE' 'KHR' 'KCJ' 'KEM' 'KDL']\n",
      "\n"
     ]
    }
   ],
   "source": [
    "string_data = df_June2016_PREDICT.select_dtypes(include=[\"object\"])\n",
    "for col in string_data:\n",
    "    print(\"Unique values for {0}:\\n{1}\\n\".format(col,string_data[col].unique()))\n",
    "del string_data"
   ]
  },
  {
   "cell_type": "markdown",
   "metadata": {},
   "source": [
    "##### Recode categorical feature duplicates "
   ]
  },
  {
   "cell_type": "code",
   "execution_count": 16,
   "metadata": {
    "collapsed": false
   },
   "outputs": [],
   "source": [
    "# Generic function to replace duplicates\n",
    "def coding(col, codeDict):\n",
    "  colCoded = pd.Series(col, copy=True)\n",
    "  for key, value in codeDict.items():\n",
    "    colCoded.replace(key, value, inplace=True)\n",
    "  return colCoded\n",
    "\n",
    "# Reclassify duplicate labels - Training Set\n",
    "df_May_June2015['indrel_1mes'] = coding(df_May_June2015['indrel_1mes'], \n",
    "                                       {'1.0':'1','3.0':'3'})\n",
    "\n",
    "# Reclassify duplicate labels - Kaggle Prediction Set\n",
    "df_May_June2015['indrel_1mes'] = coding(df_May_June2015['indrel_1mes'], \n",
    "                                       {'1.0':'1','3.0':'3'})"
   ]
  },
  {
   "cell_type": "markdown",
   "metadata": {},
   "source": [
    "###### Impute N/A values and recode numeric features:"
   ]
  },
  {
   "cell_type": "code",
   "execution_count": 17,
   "metadata": {
    "collapsed": false
   },
   "outputs": [
    {
     "name": "stdout",
     "output_type": "stream",
     "text": [
      "TRAINING Missing values per Numeric column:\n",
      "age              8\n",
      "antiguedad       8\n",
      "renta         6193\n",
      "cod_prov       106\n",
      "dtype: int64\n"
     ]
    }
   ],
   "source": [
    "def num_missing(x):\n",
    "  return sum(x==-1)\n",
    "\n",
    "print \"TRAINING Missing values per Numeric column:\"\n",
    "print df_May_June2015[numeric_cols].apply(num_missing, axis=0)"
   ]
  },
  {
   "cell_type": "code",
   "execution_count": 18,
   "metadata": {
    "collapsed": false
   },
   "outputs": [
    {
     "name": "stdout",
     "output_type": "stream",
     "text": [
      "Testing Missing values per Numeric column:\n",
      "age                0\n",
      "antiguedad         0\n",
      "renta         227965\n",
      "cod_prov        3996\n",
      "dtype: int64\n"
     ]
    }
   ],
   "source": [
    "def num_missing(x):\n",
    "  return sum(x == -1)\n",
    "\n",
    "print \"Testing Missing values per Numeric column:\"\n",
    "print df_June2016_PREDICT[numeric_cols].apply(num_missing, axis=0)"
   ]
  },
  {
   "cell_type": "code",
   "execution_count": 19,
   "metadata": {
    "collapsed": false
   },
   "outputs": [
    {
     "data": {
      "image/png": "[encoded data removed]",
      "text/plain": [
       "<matplotlib.figure.Figure at 0x129259810>"
      ]
     },
     "metadata": {},
     "output_type": "display_data"
    }
   ],
   "source": [
    "Age_Max_Train = df_June2016_PREDICT.age.max()\n",
    "\n",
    "with sns.plotting_context(\"notebook\",font_scale=1.5):\n",
    "    sns.set_style(\"whitegrid\")\n",
    "    sns.distplot(df_May_June2015[\"age\"],\n",
    "                 bins=None,\n",
    "                 kde_kws={\"color\": \"black\", \"lw\": 1, \"label\": \"KDE\"},\n",
    "                 color=\"blue\")\n",
    "    sns.plt.title(\"Age Distribution--Training Set\")\n",
    "    plt.ylabel(\"Density\")\n",
    "    plt.xlim((-1, Age_Max_Train))"
   ]
  },
  {
   "cell_type": "code",
   "execution_count": 20,
   "metadata": {
    "collapsed": false
   },
   "outputs": [
    {
     "data": {
      "image/png": "[encoded data removed]",
      "text/plain": [
       "<matplotlib.figure.Figure at 0x1604bfd50>"
      ]
     },
     "metadata": {},
     "output_type": "display_data"
    }
   ],
   "source": [
    "Age_Max_Predict = df_June2016_PREDICT.age.max()\n",
    "with sns.plotting_context(\"notebook\",font_scale=1.5):\n",
    "    sns.set_style(\"whitegrid\")\n",
    "    sns.distplot(df_June2016_PREDICT [\"age\"],\n",
    "                 bins=None,\n",
    "                 kde_kws={\"color\": \"black\", \"lw\": 1, \"label\": \"KDE\"},\n",
    "                 color=\"blue\")\n",
    "    sns.plt.title(\"Age Distribution--Kaggle Prediction Set\")\n",
    "    plt.ylabel(\"Density\")\n",
    "    plt.xlim(-1, Age_Max_Predict)"
   ]
  },
  {
   "cell_type": "markdown",
   "metadata": {},
   "source": [
    "###### Impute N/A values and recode Age of customer\n",
    "Grouping 20, as 20 years old and over 90 as 90 to reduce extreme values. Customers unlikely to be adding many products in the tails. With 8 missing values in Training set, setting to 40---value most comming in Training set for customers that actually added products (younger people seem to be customers, but not ones that end up adding new products). "
   ]
  },
  {
   "cell_type": "code",
   "execution_count": 21,
   "metadata": {
    "collapsed": false
   },
   "outputs": [],
   "source": [
    "# Training Data Set \n",
    "df_May_June2015.loc[df_May_June2015.age <= 20,\"age\"] = 20\n",
    "df_May_June2015.loc[df_May_June2015.age >= 90,\"age\"] = 90\n",
    "mean_age = 40\n",
    "df_May_June2015.loc[df_May_June2015.age < 0,\"age\"] = mean_age\n",
    "\n",
    "\n",
    "#Kaggle_Prediciton_Set\n",
    "df_June2016_PREDICT.loc[df_June2016_PREDICT.age < 18,\"age\"] = 17\n",
    "df_June2016_PREDICT.loc[df_June2016_PREDICT.age > 90,\"age\"] = 90\n",
    "df_June2016_PREDICT[\"age\"].fillna(df_June2016_PREDICT[\"age\"].mean(),inplace=True)"
   ]
  },
  {
   "cell_type": "markdown",
   "metadata": {},
   "source": [
    "###### Impute N/A values and recode Renta: Customer income\n",
    "This seems important feature and many missing values in both the Training(6,193) and Kaggle prediction set(227,965). First lets look at the distribution to see if we want to recode any extremely high earners."
   ]
  },
  {
   "cell_type": "code",
   "execution_count": 22,
   "metadata": {
    "collapsed": false
   },
   "outputs": [
    {
     "name": "stdout",
     "output_type": "stream",
     "text": [
      "Maximum Income from Training set\n",
      "22034738.76\n",
      "Median Income from Training set\n",
      "95560.77\n"
     ]
    },
    {
     "data": {
      "image/png": "[encoded data removed]",
      "text/plain": [
       "<matplotlib.figure.Figure at 0x16700aed0>"
      ]
     },
     "metadata": {},
     "output_type": "display_data"
    }
   ],
   "source": [
    "print \"Maximum Income from Training set\"\n",
    "print df_May_June2015.renta.max()\n",
    "print \"Median Income from Training set\"\n",
    "median_Income = df_May_June2015.renta.median()\n",
    "print median_Income\n",
    "with sns.plotting_context(\"notebook\",font_scale=1.5):\n",
    "    sns.set_style(\"whitegrid\")\n",
    "    sns.distplot(df_May_June2015[\"renta\"],\n",
    "                 bins=None,\n",
    "                 kde = False,\n",
    "                 #kde_kws={\"color\": \"black\", \"lw\": 1, \"label\": \"KDE\"},\n",
    "                 color=\"blue\")\n",
    "    sns.plt.title(\"Income Distribution--Training Set\")\n",
    "    plt.ylabel(\"Count\")\n",
    "    plt.xlim((-1,df_May_June2015.renta.max()))"
   ]
  },
  {
   "cell_type": "code",
   "execution_count": 23,
   "metadata": {
    "collapsed": false
   },
   "outputs": [
    {
     "data": {
      "image/png": "[encoded data removed]",
      "text/plain": [
       "<matplotlib.figure.Figure at 0x1635e0b50>"
      ]
     },
     "metadata": {},
     "output_type": "display_data"
    }
   ],
   "source": [
    "# A closer look at only people making less than $1.5M\n",
    "with sns.plotting_context(\"notebook\",font_scale=1.5):\n",
    "    sns.set_style(\"whitegrid\")\n",
    "    sns.distplot(df_May_June2015[\"renta\"],\n",
    "                 bins=None,\n",
    "                 kde = False,\n",
    "                 #kde_kws={\"color\": \"black\", \"lw\": 1, \"label\": \"KDE\"},\n",
    "                 color=\"blue\")\n",
    "    sns.plt.title(\"Income Distribution--Training Set\")\n",
    "    plt.ylabel(\"Count\")\n",
    "    plt.xlim((-1,1500000))"
   ]
  },
  {
   "cell_type": "code",
   "execution_count": 24,
   "metadata": {
    "collapsed": false
   },
   "outputs": [],
   "source": [
    "# Training Data Set \n",
    "#code highest earners to $1.5M\n",
    "df_May_June2015.loc[df_May_June2015.renta >= 1500000,\"renta\"] = 1500000\n",
    "#Code missing values (-1) as median income\n",
    "df_May_June2015.loc[df_May_June2015.renta < 0,\"renta\"] = median_Income\n",
    "\n",
    "#Kaggle_Prediciton_Set\n",
    "df_June2016_PREDICT.loc[df_June2016_PREDICT.renta >= 1500000,\"renta\"] = 1500000\n",
    "#Code missing values (-1) as median income\n",
    "df_June2016_PREDICT.loc[df_June2016_PREDICT.renta < 0,\"renta\"] = median_Income"
   ]
  },
  {
   "cell_type": "markdown",
   "metadata": {},
   "source": [
    "###### Impute N/A values and recode Cod_prov: Sales Channel \n",
    "Replace the null values in Sales channel with the mode from the \n",
    "Training set"
   ]
  },
  {
   "cell_type": "code",
   "execution_count": 25,
   "metadata": {
    "collapsed": false
   },
   "outputs": [
    {
     "name": "stdout",
     "output_type": "stream",
     "text": [
      "Recode missing values to the most frequent Sales Channel:\n",
      "28.0\n"
     ]
    }
   ],
   "source": [
    "print \"Recode missing values to the most frequent Sales Channel:\"\n",
    "mode_cod_prov = df_May_June2015.cod_prov.mode()[0]\n",
    "print mode_cod_prov\n",
    "# Training Data Set\n",
    "df_May_June2015.loc[df_May_June2015.cod_prov <0,\"cod_prov\"]= mode_cod_prov\n",
    "# Kaggle Data Set\n",
    "df_June2016_PREDICT.loc[df_June2016_PREDICT.cod_prov<0,\"cod_prov\"]=mode_cod_prov"
   ]
  },
  {
   "cell_type": "markdown",
   "metadata": {},
   "source": [
    "###### Impute N/A values and recode Antiquedad:  (Seniority)\n",
    "Only 8 people are Null for seniority in the Training Set. Small number and \n",
    "will give them the least seniorty(zero)rather than remove them. "
   ]
  },
  {
   "cell_type": "code",
   "execution_count": 26,
   "metadata": {
    "collapsed": true
   },
   "outputs": [],
   "source": [
    "# Training Data Set\n",
    "df_May_June2015.loc[df_May_June2015.antiguedad <0,\"antiguedad\"]= mode_cod_prov\n",
    "# Kaggle Data Set\n",
    "df_June2016_PREDICT.loc[df_June2016_PREDICT.antiguedad<0,\"antiguedad\"]=mode_cod_prov"
   ]
  },
  {
   "cell_type": "markdown",
   "metadata": {},
   "source": [
    "##### One-Hot Encoding: Dummy Variables "
   ]
  },
  {
   "cell_type": "code",
   "execution_count": 27,
   "metadata": {
    "collapsed": true
   },
   "outputs": [],
   "source": [
    "def preprocess_features(X):\n",
    "    ''' Preprocesses the data and converts non-numeric binary variables \n",
    "    intobinary (0/1) variables. Then, converts categorical \n",
    "    variables into dummy variables. '''\n",
    "    \n",
    "    # Initialize new output DataFrame\n",
    "    output = pd.DataFrame(index = X.index)\n",
    "\n",
    "    # Investigate each feature column for the data\n",
    "    for col, col_data in X.iteritems():\n",
    "\n",
    "        # If data type is categorical, convert to dummy variables\n",
    "        if col_data.dtype == object:\n",
    "            # Example: 'tiprel_lmes' => 'tiprel_lmes_I',tiprel_lmes_A','tiprel_lmes_P'\n",
    "            col_data = pd.get_dummies(col_data, prefix = col)  \n",
    "        \n",
    "        # Collect the revised columns\n",
    "        output = output.join(col_data)\n",
    "    \n",
    "    return output"
   ]
  },
  {
   "cell_type": "code",
   "execution_count": 28,
   "metadata": {
    "collapsed": false
   },
   "outputs": [
    {
     "name": "stdout",
     "output_type": "stream",
     "text": [
      "(45679, 43)\n",
      "(45679,)\n",
      "(929615, 43)\n"
     ]
    }
   ],
   "source": [
    "# Subset Features for predictions\n",
    "X = df_May_June2015.iloc[:,:-1]\n",
    "# Subset Y variable for predictions as array\n",
    "Y = np.ravel(df_May_June2015.Y_vars)\n",
    "X_test = df_June2016_PREDICT\n",
    "print  X.shape\n",
    "print Y.shape\n",
    "print X_test.shape"
   ]
  },
  {
   "cell_type": "code",
   "execution_count": 29,
   "metadata": {
    "collapsed": false
   },
   "outputs": [
    {
     "name": "stdout",
     "output_type": "stream",
     "text": [
      "Processed feature columns (219 total features):\n",
      "Processed feature columns (346 total features):\n"
     ]
    }
   ],
   "source": [
    "df_Train_features = preprocess_features(X)\n",
    "df_Predict_features = preprocess_features(X_test)\n",
    "print \"Processed feature columns ({} total features):\".format(len(df_Train_features.columns))\n",
    "print \"Processed feature columns ({} total features):\".format(len(df_Predict_features.columns))"
   ]
  },
  {
   "cell_type": "code",
   "execution_count": 30,
   "metadata": {
    "collapsed": true
   },
   "outputs": [],
   "source": [
    "Training_backup=df_Train_features\n",
    "Predict =df_Predict_features"
   ]
  },
  {
   "cell_type": "code",
   "execution_count": 31,
   "metadata": {
    "collapsed": false
   },
   "outputs": [],
   "source": [
    "# Re-Index feature columns Alphabetically:\n",
    "Train_sort = df_Train_features.reindex(columns=sorted(df_Train_features.columns))"
   ]
  },
  {
   "cell_type": "code",
   "execution_count": 32,
   "metadata": {
    "collapsed": false
   },
   "outputs": [],
   "source": [
    "Predict_sort = df_Predict_features.reindex(columns=sorted(df_Predict_features.columns))"
   ]
  },
  {
   "cell_type": "code",
   "execution_count": 33,
   "metadata": {
    "collapsed": false
   },
   "outputs": [
    {
     "name": "stdout",
     "output_type": "stream",
     "text": [
      "136\n",
      "9\n"
     ]
    }
   ],
   "source": [
    "# determine class labels in Predict data set that are not in Train\n",
    "col_train_add = set(Predict_sort.columns) - set(Train_sort.columns)\n",
    "print len(col_train_add)\n",
    "# determine class labels in Train data set that are not in Predict\n",
    "col_predict_add = set(Train_sort.columns) - set(Predict_sort.columns)\n",
    "print len(col_predict_add)"
   ]
  },
  {
   "cell_type": "code",
   "execution_count": 34,
   "metadata": {
    "collapsed": false
   },
   "outputs": [
    {
     "name": "stdout",
     "output_type": "stream",
     "text": [
      "0\n",
      "0\n"
     ]
    }
   ],
   "source": [
    "#Add the column header and fill in values with zero so that the \n",
    "#dataframes are identical. \n",
    "for col in col_train_add:\n",
    "    Train_sort[col] = 0\n",
    "for col in col_predict_add:\n",
    "    Predict_sort[col]=0\n",
    "    \n",
    "# verify that the columns are the same for both data sets\n",
    "col_train_add = set(Predict_sort.columns) - set(Train_sort.columns)\n",
    "print len(col_train_add)\n",
    "# verify that the columns are the same for both data sets\n",
    "col_predict_add = set(Train_sort.columns) - set(Predict_sort.columns)\n",
    "print len(col_predict_add)"
   ]
  },
  {
   "cell_type": "code",
   "execution_count": 35,
   "metadata": {
    "collapsed": false
   },
   "outputs": [],
   "source": [
    "# Re-Index feature columns Alphabetically:\n",
    "Train_sort = Train_sort.reindex(columns=sorted(Train_sort.columns))\n",
    "Predict_sort= Predict_sort.reindex(columns=sorted(Predict_sort))\n",
    "\n",
    "# Saving files to computer for ease of use \n",
    "#Data from May with June's product\n",
    "response_mod_TRAIN = pd.DataFrame(Y, columns = ['Y'])\n",
    "# merge Y onto Train_sort\n",
    "train_sort2 = pd.concat([Train_sort,response_mod_TRAIN], axis=1)"
   ]
  },
  {
   "cell_type": "code",
   "execution_count": 36,
   "metadata": {
    "collapsed": false
   },
   "outputs": [
    {
     "name": "stdout",
     "output_type": "stream",
     "text": [
      "(45679,)\n",
      "(45679, 355)\n",
      "(929615, 355)\n"
     ]
    }
   ],
   "source": [
    "df2_May_June2015 = train_sort2\n",
    "df2_June2016_PREDICT = Predict_sort\n",
    "\n",
    "# Subset Features for predictions\n",
    "X = df2_May_June2015.iloc[:,:-1]\n",
    "# Subset Y variable for predictions as array\n",
    "Y = np.ravel(df2_May_June2015.Y)\n",
    "X_test = df2_June2016_PREDICT\n",
    "\n",
    "# check the shapes match after all the pre-processing and manipulation\n",
    "print Y.shape\n",
    "print X.shape\n",
    "print X_test.shape"
   ]
  },
  {
   "cell_type": "markdown",
   "metadata": {},
   "source": [
    "##### Scaling Features: Numeric Values "
   ]
  },
  {
   "cell_type": "code",
   "execution_count": 37,
   "metadata": {
    "collapsed": false
   },
   "outputs": [],
   "source": [
    "features_scale =['age','antiguedad','renta','cod_prov']\n",
    "# Initialize Standard Scaler to bring numeric values to same scale. \n",
    "std = StandardScaler()\n",
    "\n",
    "X[features_scale] = std.fit_transform(X[features_scale])\n",
    "X_test[features_scale] = std.fit_transform(X_test[features_scale])\n"
   ]
  },
  {
   "cell_type": "markdown",
   "metadata": {},
   "source": [
    "#### Feature Selection/Extraction: Random Forrest"
   ]
  },
  {
   "cell_type": "code",
   "execution_count": 38,
   "metadata": {
    "collapsed": false
   },
   "outputs": [],
   "source": [
    "feat_labels_Train = X.columns[:]\n",
    "\n",
    "# initialize Random Forrest Classifer \n",
    "forest = RandomForestClassifier(n_estimators=500, random_state=43,\n",
    "                               n_jobs = -1)\n",
    "\n",
    "forest.fit(X,Y)\n",
    "importances = forest.feature_importances_\n",
    "indices = np.argsort(importances)[::-1]\n",
    "indices  = indices[:25]"
   ]
  },
  {
   "cell_type": "code",
   "execution_count": 39,
   "metadata": {
    "collapsed": false
   },
   "outputs": [
    {
     "name": "stdout",
     "output_type": "stream",
     "text": [
      "Total percent contribution of the top 25 features is 89.59%:\n",
      " 0 age                            0.141702\n",
      " 1 renta                          0.138927\n",
      " 2 antiguedad                     0.134327\n",
      " 3 cod_prov                       0.089250\n",
      " 4 ind_cco_fin_ult1               0.074819\n",
      " 5 ind_recibo_ult1                0.061477\n",
      " 6 ind_cno_fin_ult1               0.042871\n",
      " 7 ind_nom_pens_ult1              0.027689\n",
      " 8 ind_nomina_ult1                0.023757\n",
      " 9 ind_tjcr_fin_ult1              0.018078\n",
      "10 ind_ecue_fin_ult1              0.014511\n",
      "11 ind_reca_fin_ult1              0.014011\n",
      "12 ind_ctop_fin_ult1              0.010708\n",
      "13 canal_entrada_KFC              0.010698\n",
      "14 canal_entrada_KAT              0.010690\n",
      "15 ind_dela_fin_ult1              0.009747\n",
      "16 ind_ctpp_fin_ult1              0.009612\n",
      "17 sexo_V                         0.009390\n",
      "18 sexo_H                         0.009371\n",
      "19 segmento_02 - PARTICULARES     0.008124\n",
      "20 ind_ctma_fin_ult1              0.008031\n",
      "21 segmento_01 - TOP              0.007691\n",
      "22 ind_valo_fin_ult1              0.007627\n",
      "23 ind_nuevo_1                    0.006410\n",
      "24 ind_nuevo_0                    0.006369\n"
     ]
    }
   ],
   "source": [
    "sum_x = np.sum(importances[indices])\n",
    "print 'Total percent contribution of the top {} features is {:.2%}:'.format(25,(sum_x))\n",
    "\n",
    "for f in range(len(indices)):\n",
    "    print (\"%2d %-*s %f\" % (f,30,feat_labels_Train[indices[f]],importances[indices[f]]))"
   ]
  },
  {
   "cell_type": "code",
   "execution_count": 40,
   "metadata": {
    "collapsed": false
   },
   "outputs": [
    {
     "data": {
      "text/html": [
       "<div>\n",
       "<table border=\"1\" class=\"dataframe\">\n",
       "  <thead>\n",
       "    <tr style=\"text-align: right;\">\n",
       "      <th></th>\n",
       "      <th>age</th>\n",
       "      <th>renta</th>\n",
       "      <th>antiguedad</th>\n",
       "      <th>cod_prov</th>\n",
       "      <th>ind_cco_fin_ult1</th>\n",
       "      <th>ind_recibo_ult1</th>\n",
       "      <th>ind_cno_fin_ult1</th>\n",
       "      <th>ind_nom_pens_ult1</th>\n",
       "      <th>ind_nomina_ult1</th>\n",
       "      <th>ind_tjcr_fin_ult1</th>\n",
       "      <th>...</th>\n",
       "      <th>ind_dela_fin_ult1</th>\n",
       "      <th>ind_ctpp_fin_ult1</th>\n",
       "      <th>sexo_V</th>\n",
       "      <th>sexo_H</th>\n",
       "      <th>segmento_02 - PARTICULARES</th>\n",
       "      <th>ind_ctma_fin_ult1</th>\n",
       "      <th>segmento_01 - TOP</th>\n",
       "      <th>ind_valo_fin_ult1</th>\n",
       "      <th>ind_nuevo_1</th>\n",
       "      <th>ind_nuevo_0</th>\n",
       "    </tr>\n",
       "  </thead>\n",
       "  <tbody>\n",
       "    <tr>\n",
       "      <th>0</th>\n",
       "      <td>-1.084954</td>\n",
       "      <td>0.516000</td>\n",
       "      <td>-0.692672</td>\n",
       "      <td>0.089283</td>\n",
       "      <td>0</td>\n",
       "      <td>0</td>\n",
       "      <td>0</td>\n",
       "      <td>0</td>\n",
       "      <td>0</td>\n",
       "      <td>0</td>\n",
       "      <td>...</td>\n",
       "      <td>0</td>\n",
       "      <td>0</td>\n",
       "      <td>1</td>\n",
       "      <td>0</td>\n",
       "      <td>0</td>\n",
       "      <td>0</td>\n",
       "      <td>0</td>\n",
       "      <td>0</td>\n",
       "      <td>0</td>\n",
       "      <td>1</td>\n",
       "    </tr>\n",
       "    <tr>\n",
       "      <th>1</th>\n",
       "      <td>-1.084954</td>\n",
       "      <td>0.516000</td>\n",
       "      <td>-0.692672</td>\n",
       "      <td>0.089283</td>\n",
       "      <td>0</td>\n",
       "      <td>0</td>\n",
       "      <td>0</td>\n",
       "      <td>0</td>\n",
       "      <td>0</td>\n",
       "      <td>0</td>\n",
       "      <td>...</td>\n",
       "      <td>0</td>\n",
       "      <td>0</td>\n",
       "      <td>1</td>\n",
       "      <td>0</td>\n",
       "      <td>0</td>\n",
       "      <td>0</td>\n",
       "      <td>0</td>\n",
       "      <td>0</td>\n",
       "      <td>0</td>\n",
       "      <td>1</td>\n",
       "    </tr>\n",
       "    <tr>\n",
       "      <th>2</th>\n",
       "      <td>-0.461941</td>\n",
       "      <td>-0.218546</td>\n",
       "      <td>-0.692672</td>\n",
       "      <td>0.089283</td>\n",
       "      <td>0</td>\n",
       "      <td>1</td>\n",
       "      <td>1</td>\n",
       "      <td>0</td>\n",
       "      <td>0</td>\n",
       "      <td>0</td>\n",
       "      <td>...</td>\n",
       "      <td>0</td>\n",
       "      <td>0</td>\n",
       "      <td>1</td>\n",
       "      <td>0</td>\n",
       "      <td>1</td>\n",
       "      <td>0</td>\n",
       "      <td>0</td>\n",
       "      <td>0</td>\n",
       "      <td>0</td>\n",
       "      <td>1</td>\n",
       "    </tr>\n",
       "    <tr>\n",
       "      <th>3</th>\n",
       "      <td>-0.461941</td>\n",
       "      <td>-0.218546</td>\n",
       "      <td>-0.692672</td>\n",
       "      <td>0.089283</td>\n",
       "      <td>0</td>\n",
       "      <td>1</td>\n",
       "      <td>1</td>\n",
       "      <td>0</td>\n",
       "      <td>0</td>\n",
       "      <td>0</td>\n",
       "      <td>...</td>\n",
       "      <td>0</td>\n",
       "      <td>0</td>\n",
       "      <td>1</td>\n",
       "      <td>0</td>\n",
       "      <td>1</td>\n",
       "      <td>0</td>\n",
       "      <td>0</td>\n",
       "      <td>0</td>\n",
       "      <td>0</td>\n",
       "      <td>1</td>\n",
       "    </tr>\n",
       "    <tr>\n",
       "      <th>4</th>\n",
       "      <td>-0.254271</td>\n",
       "      <td>-0.344954</td>\n",
       "      <td>-0.692672</td>\n",
       "      <td>0.089283</td>\n",
       "      <td>1</td>\n",
       "      <td>1</td>\n",
       "      <td>0</td>\n",
       "      <td>0</td>\n",
       "      <td>0</td>\n",
       "      <td>0</td>\n",
       "      <td>...</td>\n",
       "      <td>0</td>\n",
       "      <td>0</td>\n",
       "      <td>0</td>\n",
       "      <td>1</td>\n",
       "      <td>1</td>\n",
       "      <td>0</td>\n",
       "      <td>0</td>\n",
       "      <td>0</td>\n",
       "      <td>0</td>\n",
       "      <td>1</td>\n",
       "    </tr>\n",
       "  </tbody>\n",
       "</table>\n",
       "<p>5 rows × 25 columns</p>\n",
       "</div>"
      ],
      "text/plain": [
       "        age     renta  antiguedad  cod_prov  ind_cco_fin_ult1  \\\n",
       "0 -1.084954  0.516000   -0.692672  0.089283                 0   \n",
       "1 -1.084954  0.516000   -0.692672  0.089283                 0   \n",
       "2 -0.461941 -0.218546   -0.692672  0.089283                 0   \n",
       "3 -0.461941 -0.218546   -0.692672  0.089283                 0   \n",
       "4 -0.254271 -0.344954   -0.692672  0.089283                 1   \n",
       "\n",
       "   ind_recibo_ult1  ind_cno_fin_ult1  ind_nom_pens_ult1  ind_nomina_ult1  \\\n",
       "0                0                 0                  0                0   \n",
       "1                0                 0                  0                0   \n",
       "2                1                 1                  0                0   \n",
       "3                1                 1                  0                0   \n",
       "4                1                 0                  0                0   \n",
       "\n",
       "   ind_tjcr_fin_ult1     ...       ind_dela_fin_ult1  ind_ctpp_fin_ult1  \\\n",
       "0                  0     ...                       0                  0   \n",
       "1                  0     ...                       0                  0   \n",
       "2                  0     ...                       0                  0   \n",
       "3                  0     ...                       0                  0   \n",
       "4                  0     ...                       0                  0   \n",
       "\n",
       "   sexo_V  sexo_H  segmento_02 - PARTICULARES  ind_ctma_fin_ult1  \\\n",
       "0       1       0                           0                  0   \n",
       "1       1       0                           0                  0   \n",
       "2       1       0                           1                  0   \n",
       "3       1       0                           1                  0   \n",
       "4       0       1                           1                  0   \n",
       "\n",
       "   segmento_01 - TOP  ind_valo_fin_ult1  ind_nuevo_1  ind_nuevo_0  \n",
       "0                  0                  0            0            1  \n",
       "1                  0                  0            0            1  \n",
       "2                  0                  0            0            1  \n",
       "3                  0                  0            0            1  \n",
       "4                  0                  0            0            1  \n",
       "\n",
       "[5 rows x 25 columns]"
      ]
     },
     "execution_count": 40,
     "metadata": {},
     "output_type": "execute_result"
    }
   ],
   "source": [
    "X = pd.DataFrame(X.iloc[:,indices ])\n",
    "X.head()"
   ]
  },
  {
   "cell_type": "code",
   "execution_count": 41,
   "metadata": {
    "collapsed": false
   },
   "outputs": [
    {
     "data": {
      "text/html": [
       "<div>\n",
       "<table border=\"1\" class=\"dataframe\">\n",
       "  <thead>\n",
       "    <tr style=\"text-align: right;\">\n",
       "      <th></th>\n",
       "      <th>age</th>\n",
       "      <th>renta</th>\n",
       "      <th>antiguedad</th>\n",
       "      <th>cod_prov</th>\n",
       "      <th>ind_cco_fin_ult1</th>\n",
       "      <th>ind_recibo_ult1</th>\n",
       "      <th>ind_cno_fin_ult1</th>\n",
       "      <th>ind_nom_pens_ult1</th>\n",
       "      <th>ind_nomina_ult1</th>\n",
       "      <th>ind_tjcr_fin_ult1</th>\n",
       "      <th>...</th>\n",
       "      <th>ind_dela_fin_ult1</th>\n",
       "      <th>ind_ctpp_fin_ult1</th>\n",
       "      <th>sexo_V</th>\n",
       "      <th>sexo_H</th>\n",
       "      <th>segmento_02 - PARTICULARES</th>\n",
       "      <th>ind_ctma_fin_ult1</th>\n",
       "      <th>segmento_01 - TOP</th>\n",
       "      <th>ind_valo_fin_ult1</th>\n",
       "      <th>ind_nuevo_1</th>\n",
       "      <th>ind_nuevo_0</th>\n",
       "    </tr>\n",
       "  </thead>\n",
       "  <tbody>\n",
       "    <tr>\n",
       "      <th>0</th>\n",
       "      <td>0.927359</td>\n",
       "      <td>2.045076</td>\n",
       "      <td>2.603210</td>\n",
       "      <td>0.113011</td>\n",
       "      <td>1</td>\n",
       "      <td>0</td>\n",
       "      <td>0</td>\n",
       "      <td>0</td>\n",
       "      <td>0</td>\n",
       "      <td>1</td>\n",
       "      <td>...</td>\n",
       "      <td>0</td>\n",
       "      <td>1</td>\n",
       "      <td>1</td>\n",
       "      <td>0</td>\n",
       "      <td>0</td>\n",
       "      <td>0</td>\n",
       "      <td>1</td>\n",
       "      <td>1</td>\n",
       "      <td>0</td>\n",
       "      <td>1</td>\n",
       "    </tr>\n",
       "    <tr>\n",
       "      <th>1</th>\n",
       "      <td>-0.249811</td>\n",
       "      <td>-0.266993</td>\n",
       "      <td>-0.698311</td>\n",
       "      <td>-1.838689</td>\n",
       "      <td>1</td>\n",
       "      <td>0</td>\n",
       "      <td>0</td>\n",
       "      <td>0</td>\n",
       "      <td>0</td>\n",
       "      <td>0</td>\n",
       "      <td>...</td>\n",
       "      <td>0</td>\n",
       "      <td>0</td>\n",
       "      <td>0</td>\n",
       "      <td>1</td>\n",
       "      <td>1</td>\n",
       "      <td>0</td>\n",
       "      <td>0</td>\n",
       "      <td>0</td>\n",
       "      <td>0</td>\n",
       "      <td>1</td>\n",
       "    </tr>\n",
       "    <tr>\n",
       "      <th>2</th>\n",
       "      <td>-1.073831</td>\n",
       "      <td>-0.266993</td>\n",
       "      <td>-0.698311</td>\n",
       "      <td>-0.901873</td>\n",
       "      <td>1</td>\n",
       "      <td>0</td>\n",
       "      <td>0</td>\n",
       "      <td>0</td>\n",
       "      <td>0</td>\n",
       "      <td>0</td>\n",
       "      <td>...</td>\n",
       "      <td>0</td>\n",
       "      <td>0</td>\n",
       "      <td>1</td>\n",
       "      <td>0</td>\n",
       "      <td>0</td>\n",
       "      <td>0</td>\n",
       "      <td>0</td>\n",
       "      <td>0</td>\n",
       "      <td>0</td>\n",
       "      <td>1</td>\n",
       "    </tr>\n",
       "    <tr>\n",
       "      <th>3</th>\n",
       "      <td>-1.073831</td>\n",
       "      <td>0.262902</td>\n",
       "      <td>-0.698311</td>\n",
       "      <td>-1.448349</td>\n",
       "      <td>1</td>\n",
       "      <td>0</td>\n",
       "      <td>0</td>\n",
       "      <td>0</td>\n",
       "      <td>0</td>\n",
       "      <td>0</td>\n",
       "      <td>...</td>\n",
       "      <td>0</td>\n",
       "      <td>0</td>\n",
       "      <td>0</td>\n",
       "      <td>1</td>\n",
       "      <td>0</td>\n",
       "      <td>0</td>\n",
       "      <td>0</td>\n",
       "      <td>0</td>\n",
       "      <td>0</td>\n",
       "      <td>1</td>\n",
       "    </tr>\n",
       "    <tr>\n",
       "      <th>4</th>\n",
       "      <td>-1.073831</td>\n",
       "      <td>-0.153427</td>\n",
       "      <td>-0.698311</td>\n",
       "      <td>-1.526417</td>\n",
       "      <td>1</td>\n",
       "      <td>0</td>\n",
       "      <td>0</td>\n",
       "      <td>0</td>\n",
       "      <td>0</td>\n",
       "      <td>0</td>\n",
       "      <td>...</td>\n",
       "      <td>0</td>\n",
       "      <td>0</td>\n",
       "      <td>0</td>\n",
       "      <td>1</td>\n",
       "      <td>0</td>\n",
       "      <td>0</td>\n",
       "      <td>0</td>\n",
       "      <td>0</td>\n",
       "      <td>0</td>\n",
       "      <td>1</td>\n",
       "    </tr>\n",
       "  </tbody>\n",
       "</table>\n",
       "<p>5 rows × 25 columns</p>\n",
       "</div>"
      ],
      "text/plain": [
       "        age     renta  antiguedad  cod_prov  ind_cco_fin_ult1  \\\n",
       "0  0.927359  2.045076    2.603210  0.113011                 1   \n",
       "1 -0.249811 -0.266993   -0.698311 -1.838689                 1   \n",
       "2 -1.073831 -0.266993   -0.698311 -0.901873                 1   \n",
       "3 -1.073831  0.262902   -0.698311 -1.448349                 1   \n",
       "4 -1.073831 -0.153427   -0.698311 -1.526417                 1   \n",
       "\n",
       "   ind_recibo_ult1  ind_cno_fin_ult1  ind_nom_pens_ult1  ind_nomina_ult1  \\\n",
       "0                0                 0                  0                0   \n",
       "1                0                 0                  0                0   \n",
       "2                0                 0                  0                0   \n",
       "3                0                 0                  0                0   \n",
       "4                0                 0                  0                0   \n",
       "\n",
       "   ind_tjcr_fin_ult1     ...       ind_dela_fin_ult1  ind_ctpp_fin_ult1  \\\n",
       "0                  1     ...                       0                  1   \n",
       "1                  0     ...                       0                  0   \n",
       "2                  0     ...                       0                  0   \n",
       "3                  0     ...                       0                  0   \n",
       "4                  0     ...                       0                  0   \n",
       "\n",
       "   sexo_V  sexo_H  segmento_02 - PARTICULARES  ind_ctma_fin_ult1  \\\n",
       "0       1       0                           0                  0   \n",
       "1       0       1                           1                  0   \n",
       "2       1       0                           0                  0   \n",
       "3       0       1                           0                  0   \n",
       "4       0       1                           0                  0   \n",
       "\n",
       "   segmento_01 - TOP  ind_valo_fin_ult1  ind_nuevo_1  ind_nuevo_0  \n",
       "0                  1                  1            0            1  \n",
       "1                  0                  0            0            1  \n",
       "2                  0                  0            0            1  \n",
       "3                  0                  0            0            1  \n",
       "4                  0                  0            0            1  \n",
       "\n",
       "[5 rows x 25 columns]"
      ]
     },
     "execution_count": 41,
     "metadata": {},
     "output_type": "execute_result"
    }
   ],
   "source": [
    "X_test = pd.DataFrame(X_test.iloc[:,indices ])\n",
    "X_test.head()"
   ]
  },
  {
   "cell_type": "code",
   "execution_count": 42,
   "metadata": {
    "collapsed": true
   },
   "outputs": [],
   "source": [
    "# get list of products to make predictions (only the 22 that were actually\n",
    "# added in June 2015)\n",
    "\n",
    "target_cols = np.array(['ind_cco_fin_ult1', \n",
    "    'ind_cder_fin_ult1','ind_cno_fin_ult1','ind_ctju_fin_ult1', \n",
    "    'ind_ctma_fin_ult1','ind_ctop_fin_ult1','ind_ctpp_fin_ult1',\n",
    "    'ind_deco_fin_ult1','ind_deme_fin_ult1','ind_dela_fin_ult1', \n",
    "    'ind_ecue_fin_ult1','ind_fond_fin_ult1','ind_hip_fin_ult1', \n",
    "    'ind_plan_fin_ult1','ind_pres_fin_ult1','ind_reca_fin_ult1', \n",
    "    'ind_tjcr_fin_ult1','ind_valo_fin_ult1','ind_viv_fin_ult1', \n",
    "    'ind_nomina_ult1','ind_nom_pens_ult1','ind_recibo_ult1'])"
   ]
  },
  {
   "cell_type": "code",
   "execution_count": 43,
   "metadata": {
    "collapsed": true
   },
   "outputs": [],
   "source": [
    "# Benchmark model\n",
    "\n",
    "# Creating Gaussian NB object for my algorithm\n",
    "clf_GNB = GaussianNB()  \n",
    "\n",
    "# fit the model on the training data\n",
    "model_GNB = clf_GNB.fit(X,Y)\n",
    "\n",
    "# Predict probabilities of each class label so that I can \n",
    "# later rank order them and choose the top 7 to submit to Kaggle.\n",
    "preds = model_GNB.predict_proba(X_test)\n",
    "\n",
    "# sort prediction with argument sort (i.e. the product)\n",
    "preds = np.argsort(preds, axis=1)\n",
    "# choose the 7 most likely product to be added\n",
    "preds = np.fliplr(preds)[:,:7]\n",
    "# merge predictions with customer IDs and save file\n",
    "data_path = \"/Users/bcleary21/Santander_project/\"\n",
    "test_id = np.array(pd.read_csv(data_path + \"test_ver2.csv\", usecols=['ncodpers'])['ncodpers'])\n",
    "final_preds = [\" \".join(list(target_cols[pred])) for pred in preds]\n",
    "out_df = pd.DataFrame({'ncodpers':test_id, 'added_products':final_preds})\n",
    "out_df.to_csv('Baseline_Model_GNB.csv', index=False)"
   ]
  },
  {
   "cell_type": "code",
   "execution_count": 45,
   "metadata": {
    "collapsed": false
   },
   "outputs": [
    {
     "name": "stdout",
     "output_type": "stream",
     "text": [
      "XGB Gridsearch results: [mean: -1.66012, std: 0.03426, params: {'n_estimators': 100, 'learning_rate': 0.05, 'colsample_bytree': 0.75, 'max_depth': 3}, mean: -1.68262, std: 0.02345, params: {'n_estimators': 140, 'learning_rate': 0.05, 'colsample_bytree': 0.75, 'max_depth': 3}, mean: -1.71358, std: 0.04461, params: {'n_estimators': 175, 'learning_rate': 0.05, 'colsample_bytree': 0.75, 'max_depth': 3}, mean: -1.84160, std: 0.12508, params: {'n_estimators': 100, 'learning_rate': 0.05, 'colsample_bytree': 0.75, 'max_depth': 6}, mean: -1.88994, std: 0.17119, params: {'n_estimators': 140, 'learning_rate': 0.05, 'colsample_bytree': 0.75, 'max_depth': 6}, mean: -1.93564, std: 0.20058, params: {'n_estimators': 175, 'learning_rate': 0.05, 'colsample_bytree': 0.75, 'max_depth': 6}, mean: -1.94057, std: 0.17438, params: {'n_estimators': 100, 'learning_rate': 0.05, 'colsample_bytree': 0.75, 'max_depth': 9}, mean: -1.99592, std: 0.20807, params: {'n_estimators': 140, 'learning_rate': 0.05, 'colsample_bytree': 0.75, 'max_depth': 9}, mean: -2.04938, std: 0.23775, params: {'n_estimators': 175, 'learning_rate': 0.05, 'colsample_bytree': 0.75, 'max_depth': 9}, mean: -1.69240, std: 0.02949, params: {'n_estimators': 100, 'learning_rate': 0.075, 'colsample_bytree': 0.75, 'max_depth': 3}, mean: -1.74602, std: 0.06707, params: {'n_estimators': 140, 'learning_rate': 0.075, 'colsample_bytree': 0.75, 'max_depth': 3}, mean: -1.78735, std: 0.09358, params: {'n_estimators': 175, 'learning_rate': 0.075, 'colsample_bytree': 0.75, 'max_depth': 3}, mean: -1.91628, std: 0.18424, params: {'n_estimators': 100, 'learning_rate': 0.075, 'colsample_bytree': 0.75, 'max_depth': 6}, mean: -1.98588, std: 0.22399, params: {'n_estimators': 140, 'learning_rate': 0.075, 'colsample_bytree': 0.75, 'max_depth': 6}, mean: -2.03044, std: 0.25233, params: {'n_estimators': 175, 'learning_rate': 0.075, 'colsample_bytree': 0.75, 'max_depth': 6}, mean: -2.01741, std: 0.21617, params: {'n_estimators': 100, 'learning_rate': 0.075, 'colsample_bytree': 0.75, 'max_depth': 9}, mean: -2.10053, std: 0.26092, params: {'n_estimators': 140, 'learning_rate': 0.075, 'colsample_bytree': 0.75, 'max_depth': 9}, mean: -2.15754, std: 0.28845, params: {'n_estimators': 175, 'learning_rate': 0.075, 'colsample_bytree': 0.75, 'max_depth': 9}, mean: -1.73804, std: 0.06009, params: {'n_estimators': 100, 'learning_rate': 0.1, 'colsample_bytree': 0.75, 'max_depth': 3}, mean: -1.79990, std: 0.10193, params: {'n_estimators': 140, 'learning_rate': 0.1, 'colsample_bytree': 0.75, 'max_depth': 3}, mean: -1.84491, std: 0.13409, params: {'n_estimators': 175, 'learning_rate': 0.1, 'colsample_bytree': 0.75, 'max_depth': 3}, mean: -1.97742, std: 0.22307, params: {'n_estimators': 100, 'learning_rate': 0.1, 'colsample_bytree': 0.75, 'max_depth': 6}, mean: -2.04476, std: 0.26263, params: {'n_estimators': 140, 'learning_rate': 0.1, 'colsample_bytree': 0.75, 'max_depth': 6}, mean: -2.08835, std: 0.28685, params: {'n_estimators': 175, 'learning_rate': 0.1, 'colsample_bytree': 0.75, 'max_depth': 6}, mean: -2.09843, std: 0.25684, params: {'n_estimators': 100, 'learning_rate': 0.1, 'colsample_bytree': 0.75, 'max_depth': 9}, mean: -2.18277, std: 0.29782, params: {'n_estimators': 140, 'learning_rate': 0.1, 'colsample_bytree': 0.75, 'max_depth': 9}, mean: -2.23873, std: 0.32139, params: {'n_estimators': 175, 'learning_rate': 0.1, 'colsample_bytree': 0.75, 'max_depth': 9}, mean: -1.64076, std: 0.01906, params: {'n_estimators': 100, 'learning_rate': 0.05, 'colsample_bytree': 1, 'max_depth': 3}, mean: -1.66866, std: 0.01663, params: {'n_estimators': 140, 'learning_rate': 0.05, 'colsample_bytree': 1, 'max_depth': 3}, mean: -1.70528, std: 0.04240, params: {'n_estimators': 175, 'learning_rate': 0.05, 'colsample_bytree': 1, 'max_depth': 3}, mean: -1.88223, std: 0.14305, params: {'n_estimators': 100, 'learning_rate': 0.05, 'colsample_bytree': 1, 'max_depth': 6}, mean: -1.93042, std: 0.17829, params: {'n_estimators': 140, 'learning_rate': 0.05, 'colsample_bytree': 1, 'max_depth': 6}, mean: -1.96194, std: 0.19648, params: {'n_estimators': 175, 'learning_rate': 0.05, 'colsample_bytree': 1, 'max_depth': 6}, mean: -2.01893, std: 0.21974, params: {'n_estimators': 100, 'learning_rate': 0.05, 'colsample_bytree': 1, 'max_depth': 9}, mean: -2.08818, std: 0.25172, params: {'n_estimators': 140, 'learning_rate': 0.05, 'colsample_bytree': 1, 'max_depth': 9}, mean: -2.13130, std: 0.26788, params: {'n_estimators': 175, 'learning_rate': 0.05, 'colsample_bytree': 1, 'max_depth': 9}, mean: -1.68007, std: 0.02525, params: {'n_estimators': 100, 'learning_rate': 0.075, 'colsample_bytree': 1, 'max_depth': 3}, mean: -1.74079, std: 0.06819, params: {'n_estimators': 140, 'learning_rate': 0.075, 'colsample_bytree': 1, 'max_depth': 3}, mean: -1.78720, std: 0.09920, params: {'n_estimators': 175, 'learning_rate': 0.075, 'colsample_bytree': 1, 'max_depth': 3}, mean: -1.94208, std: 0.18451, params: {'n_estimators': 100, 'learning_rate': 0.075, 'colsample_bytree': 1, 'max_depth': 6}, mean: -1.99555, std: 0.21969, params: {'n_estimators': 140, 'learning_rate': 0.075, 'colsample_bytree': 1, 'max_depth': 6}, mean: -2.03977, std: 0.24926, params: {'n_estimators': 175, 'learning_rate': 0.075, 'colsample_bytree': 1, 'max_depth': 6}, mean: -2.10597, std: 0.25771, params: {'n_estimators': 100, 'learning_rate': 0.075, 'colsample_bytree': 1, 'max_depth': 9}, mean: -2.17242, std: 0.28993, params: {'n_estimators': 140, 'learning_rate': 0.075, 'colsample_bytree': 1, 'max_depth': 9}, mean: -2.22276, std: 0.31083, params: {'n_estimators': 175, 'learning_rate': 0.075, 'colsample_bytree': 1, 'max_depth': 9}, mean: -1.73113, std: 0.05975, params: {'n_estimators': 100, 'learning_rate': 0.1, 'colsample_bytree': 1, 'max_depth': 3}, mean: -1.80172, std: 0.10800, params: {'n_estimators': 140, 'learning_rate': 0.1, 'colsample_bytree': 1, 'max_depth': 3}, mean: -1.84943, std: 0.13687, params: {'n_estimators': 175, 'learning_rate': 0.1, 'colsample_bytree': 1, 'max_depth': 3}, mean: -1.98797, std: 0.21555, params: {'n_estimators': 100, 'learning_rate': 0.1, 'colsample_bytree': 1, 'max_depth': 6}, mean: -2.05442, std: 0.25317, params: {'n_estimators': 140, 'learning_rate': 0.1, 'colsample_bytree': 1, 'max_depth': 6}, mean: -2.10229, std: 0.28112, params: {'n_estimators': 175, 'learning_rate': 0.1, 'colsample_bytree': 1, 'max_depth': 6}, mean: -2.16321, std: 0.28427, params: {'n_estimators': 100, 'learning_rate': 0.1, 'colsample_bytree': 1, 'max_depth': 9}, mean: -2.23802, std: 0.31880, params: {'n_estimators': 140, 'learning_rate': 0.1, 'colsample_bytree': 1, 'max_depth': 9}, mean: -2.28970, std: 0.32652, params: {'n_estimators': 175, 'learning_rate': 0.1, 'colsample_bytree': 1, 'max_depth': 9}]\n",
      "Logistic Gridsearch : [mean: -1.52712, std: 0.13347, params: {'C': 0.75, 'max_iter': 100, 'solver': 'newton-cg', 'fit_intercept': True}, mean: -1.52704, std: 0.13332, params: {'C': 0.75, 'max_iter': 100, 'solver': 'lbfgs', 'fit_intercept': True}, mean: -1.52712, std: 0.13347, params: {'C': 0.75, 'max_iter': 150, 'solver': 'newton-cg', 'fit_intercept': True}, mean: -1.52708, std: 0.13342, params: {'C': 0.75, 'max_iter': 150, 'solver': 'lbfgs', 'fit_intercept': True}, mean: -1.52712, std: 0.13347, params: {'C': 0.75, 'max_iter': 200, 'solver': 'newton-cg', 'fit_intercept': True}, mean: -1.52711, std: 0.13346, params: {'C': 0.75, 'max_iter': 200, 'solver': 'lbfgs', 'fit_intercept': True}, mean: -1.52712, std: 0.13065, params: {'C': 0.75, 'max_iter': 100, 'solver': 'newton-cg', 'fit_intercept': False}, mean: -1.52708, std: 0.13061, params: {'C': 0.75, 'max_iter': 100, 'solver': 'lbfgs', 'fit_intercept': False}, mean: -1.52712, std: 0.13065, params: {'C': 0.75, 'max_iter': 150, 'solver': 'newton-cg', 'fit_intercept': False}, mean: -1.52708, std: 0.13061, params: {'C': 0.75, 'max_iter': 150, 'solver': 'lbfgs', 'fit_intercept': False}, mean: -1.52712, std: 0.13065, params: {'C': 0.75, 'max_iter': 200, 'solver': 'newton-cg', 'fit_intercept': False}, mean: -1.52708, std: 0.13061, params: {'C': 0.75, 'max_iter': 200, 'solver': 'lbfgs', 'fit_intercept': False}, mean: -1.52685, std: 0.13417, params: {'C': 1, 'max_iter': 100, 'solver': 'newton-cg', 'fit_intercept': True}, mean: -1.52687, std: 0.13416, params: {'C': 1, 'max_iter': 100, 'solver': 'lbfgs', 'fit_intercept': True}, mean: -1.52685, std: 0.13417, params: {'C': 1, 'max_iter': 150, 'solver': 'newton-cg', 'fit_intercept': True}, mean: -1.52686, std: 0.13417, params: {'C': 1, 'max_iter': 150, 'solver': 'lbfgs', 'fit_intercept': True}, mean: -1.52685, std: 0.13417, params: {'C': 1, 'max_iter': 200, 'solver': 'newton-cg', 'fit_intercept': True}, mean: -1.52685, std: 0.13417, params: {'C': 1, 'max_iter': 200, 'solver': 'lbfgs', 'fit_intercept': True}, mean: -1.52662, std: 0.13176, params: {'C': 1, 'max_iter': 100, 'solver': 'newton-cg', 'fit_intercept': False}, mean: -1.52661, std: 0.13174, params: {'C': 1, 'max_iter': 100, 'solver': 'lbfgs', 'fit_intercept': False}, mean: -1.52662, std: 0.13176, params: {'C': 1, 'max_iter': 150, 'solver': 'newton-cg', 'fit_intercept': False}, mean: -1.52660, std: 0.13174, params: {'C': 1, 'max_iter': 150, 'solver': 'lbfgs', 'fit_intercept': False}, mean: -1.52662, std: 0.13176, params: {'C': 1, 'max_iter': 200, 'solver': 'newton-cg', 'fit_intercept': False}, mean: -1.52660, std: 0.13174, params: {'C': 1, 'max_iter': 200, 'solver': 'lbfgs', 'fit_intercept': False}, mean: -1.52672, std: 0.13465, params: {'C': 1.25, 'max_iter': 100, 'solver': 'newton-cg', 'fit_intercept': True}, mean: -1.52679, std: 0.13480, params: {'C': 1.25, 'max_iter': 100, 'solver': 'lbfgs', 'fit_intercept': True}, mean: -1.52672, std: 0.13465, params: {'C': 1.25, 'max_iter': 150, 'solver': 'newton-cg', 'fit_intercept': True}, mean: -1.52673, std: 0.13465, params: {'C': 1.25, 'max_iter': 150, 'solver': 'lbfgs', 'fit_intercept': True}, mean: -1.52672, std: 0.13465, params: {'C': 1.25, 'max_iter': 200, 'solver': 'newton-cg', 'fit_intercept': True}, mean: -1.52670, std: 0.13462, params: {'C': 1.25, 'max_iter': 200, 'solver': 'lbfgs', 'fit_intercept': True}, mean: -1.52634, std: 0.13249, params: {'C': 1.25, 'max_iter': 100, 'solver': 'newton-cg', 'fit_intercept': False}, mean: -1.52626, std: 0.13241, params: {'C': 1.25, 'max_iter': 100, 'solver': 'lbfgs', 'fit_intercept': False}, mean: -1.52634, std: 0.13249, params: {'C': 1.25, 'max_iter': 150, 'solver': 'newton-cg', 'fit_intercept': False}, mean: -1.52634, std: 0.13249, params: {'C': 1.25, 'max_iter': 150, 'solver': 'lbfgs', 'fit_intercept': False}, mean: -1.52634, std: 0.13249, params: {'C': 1.25, 'max_iter': 200, 'solver': 'newton-cg', 'fit_intercept': False}, mean: -1.52634, std: 0.13249, params: {'C': 1.25, 'max_iter': 200, 'solver': 'lbfgs', 'fit_intercept': False}]\n"
     ]
    }
   ],
   "source": [
    "# Creating XGBoostClassifer object,enable probabalistic output\n",
    "xgb_model = XGBClassifier(objective= 'multi:softprob',seed=43)\n",
    "\n",
    "# Creating Logistic Regression classifier object,enable probabalistic output\n",
    "Logistic_Reg_model = LogisticRegression(random_state=43, multi_class = 'ovr')\n",
    "\n",
    "\n",
    "# initialilze Stratified KFold Object on dependent variable \n",
    "XGB_kfold = StratifiedKFold(Y, n_folds=3, random_state=43)  \n",
    "\n",
    "# initialilze Stratified KFold Object on dependent variable \n",
    "Logistic_kfold = StratifiedKFold(Y, n_folds=3, random_state=7)  \n",
    "\n",
    "# set param_grid to defaults for initial run\n",
    "xgb_param_grid = {'learning_rate': [0.05, 0.075, 0.10], 'max_depth': [3,6,9],\n",
    "                 'n_estimators': [100, 140, 175], 'colsample_bytree' : [0.75,1]}\n",
    "                \n",
    "Logistic_param_grid = {'C': [0.75, 1, 1.25], 'fit_intercept' : [True, False], \n",
    "                      'max_iter' : [100,150, 200], 'solver': ['newton-cg', 'lbfgs']}\n",
    "\n",
    "#Using Log Loss scoring function and XGBoost\n",
    "XGB_grid_search = GridSearchCV(xgb_model, xgb_param_grid,\n",
    "                           scoring='log_loss',cv=XGB_kfold)\n",
    "                \n",
    "#Using Log Loss scoring function and SVC               \n",
    "Logistic_grid_search = GridSearchCV(Logistic_Reg_model, Logistic_param_grid,\n",
    "                           scoring='log_loss',cv=Logistic_kfold)\n",
    "\n",
    "# XGB: fit the model on the training data\n",
    "xgb_model_fit = XGB_grid_search.fit(X,Y)  \n",
    "\n",
    "# Logistic: fit the model on the training data\n",
    "Logistic_model_fit = Logistic_grid_search.fit(X,Y)\n",
    "  \n",
    "# Best Score from GridSearch\n",
    "XGB_log_loss_GS = xgb_model_fit.grid_scores_                               \n",
    "Logistic_log_loss_GS = Logistic_model_fit.grid_scores_\n",
    "                   \n",
    "# Select the best model from gridsearch to make predictions with\n",
    "bst_xgb = xgb_model_fit.best_estimator_\n",
    "bst_Logistic = Logistic_model_fit.best_estimator_\n",
    "\n",
    "print \"XGB Gridsearch results: {}\".format(XGB_log_loss_GS)\n",
    "print \"Logistic Gridsearch : {}\".format(Logistic_log_loss_GS)"
   ]
  },
  {
   "cell_type": "code",
   "execution_count": 46,
   "metadata": {
    "collapsed": false
   },
   "outputs": [
    {
     "name": "stdout",
     "output_type": "stream",
     "text": [
      "Making probability predictions for class labels\n",
      "Selecting the top 7 products\n"
     ]
    }
   ],
   "source": [
    "# Predict probabilities of each class label so that I can \n",
    "# later rank order them and choose the top 7 to submit to Kaggle.\n",
    "print (\"Making probability predictions for class labels\")\n",
    "XGB_preds = bst_xgb.predict_proba(X_test)\n",
    "Logistic_preds = bst_Logistic.predict_proba(X_test)\n",
    "\n",
    "print (\"Selecting the top 7 products\")\n",
    "XGB_preds = np.argsort(XGB_preds, axis=1)\n",
    "Logistic_preds = np.argsort(Logistic_preds, axis=1)   \n",
    "\n",
    "# Choose the 7 most likely product to be added\n",
    "XGB_preds = np.fliplr(XGB_preds)[:,:7]\n",
    "Logistic_preds = np.fliplr(Logistic_preds)[:,:7]  "
   ]
  },
  {
   "cell_type": "code",
   "execution_count": 47,
   "metadata": {
    "collapsed": false
   },
   "outputs": [],
   "source": [
    "# merge predictions with customer IDs and save file\n",
    "data_path = \"/Users/bcleary21/Santander_project/\"\n",
    "test_id = np.array(pd.read_csv(data_path + \"test_ver2.csv\", \n",
    "                               usecols=['ncodpers'])['ncodpers'])\n",
    "                \n",
    "# join customer ID (ncodpers) from prediction set with predictions\n",
    "XGB_final_preds = [\" \".join(list(target_cols[XGB_pred])) for XGB_pred in XGB_preds]\n",
    "Logistic_final_preds = [\" \".join(list(target_cols[Logistic_Pred])) for Logistic_Pred in Logistic_preds]                "
   ]
  },
  {
   "cell_type": "code",
   "execution_count": 48,
   "metadata": {
    "collapsed": false
   },
   "outputs": [
    {
     "name": "stdout",
     "output_type": "stream",
     "text": [
      "Saving predictions the top 7 products\n",
      "929615\n",
      "929615\n"
     ]
    },
    {
     "data": {
      "text/plain": [
       "LogisticRegression(C=1.25, class_weight=None, dual=False, fit_intercept=False,\n",
       "          intercept_scaling=1, max_iter=100, multi_class='ovr',\n",
       "          penalty='l2', random_state=43, solver='lbfgs', tol=0.0001,\n",
       "          verbose=0)"
      ]
     },
     "execution_count": 48,
     "metadata": {},
     "output_type": "execute_result"
    }
   ],
   "source": [
    "# create and save data frame with Customer ID and predictions\n",
    "XGB_out_df = pd.DataFrame({'ncodpers':test_id, \n",
    "                           'added_products':XGB_final_preds})\n",
    "\n",
    "Logistic_out_df = pd.DataFrame({'ncodpers':test_id, \n",
    "                          'added_products':Logistic_final_preds}) \n",
    "\n",
    "print (\"Saving predictions the top 7 products\")     \n",
    "\n",
    "XGB_out_df.to_csv('XGB_150.csv', index=False)\n",
    "\n",
    "Logistic_out_df.to_csv('Logistic_defaults_GridSearch2.csv', index=False)\n",
    "\n",
    "print len(XGB_out_df)\n",
    "print len(Logistic_out_df)\n",
    "\n",
    "bst_Logistic"
   ]
  },
  {
   "cell_type": "code",
   "execution_count": 49,
   "metadata": {
    "collapsed": false
   },
   "outputs": [
    {
     "data": {
      "text/plain": [
       "XGBClassifier(base_score=0.5, colsample_bytree=1, gamma=0, learning_rate=0.05,\n",
       "       max_delta_step=0, max_depth=3, min_child_weight=1, n_estimators=100,\n",
       "       nthread=-1, objective='multi:softprob', seed=43, silent=True,\n",
       "       subsample=1)"
      ]
     },
     "execution_count": 49,
     "metadata": {},
     "output_type": "execute_result"
    }
   ],
   "source": [
    "bst_xgb"
   ]
  },
  {
   "cell_type": "markdown",
   "metadata": {},
   "source": [
    "** Table I: Scoring Results During Grid Search**  \n",
    "\n",
    "|  Agorithim  | Log-Loss  | MAP@7 |\n",
    "| :----------: | :-------------: | :-------------: | \n",
    "|Naive Bayes Benchmark |   N/A      |   0.0102542    |\n",
    "|XGBoost Default hyper parameters(25 top features)| -1.64076  | 0.0261723|\n",
    "|Logistic Default hyper parameters| -1.52672      |   0.0262049    |\n",
    "|XGBoost Grid Search {learning_rate: 0.07, Depth:6} |-1.93174 | 0.0261231|\n",
    "|Logistic GridSearch {class_weight:'auto';'C':[.5,.75,1,1.25,1.5,2]|   -2.32759    |   0.0217395    |\n",
    "|XGBoost Grid Search {n_estimators:175, learning_rate: 0.07, Depth:6|-2.02292|0.0261223|\n",
    "|XGBoost Default hyper parameters (all features)| -1.70643  | 0.0262804|\n"
   ]
  },
  {
   "cell_type": "markdown",
   "metadata": {},
   "source": [
    "** Table II: Benchmark vs. XGBoost Final**  \n",
    "\n",
    "|  Agorithim  |  MAP@7 |\n",
    "| :----------: | :-------------: | :-------------: | \n",
    "|Naive Bayes Benchmark |  0.0102542    |\n",
    "|XGBoost Default hyper parameters (all features)| 0.0262804 |"
   ]
  },
  {
   "cell_type": "markdown",
   "metadata": {},
   "source": [
    "### Visualization: Feature Importance from Training Set\n",
    "With parsimony as a guide, I wanted to show the relative importance of the top 25 features from the feature extraction process."
   ]
  },
  {
   "cell_type": "code",
   "execution_count": 50,
   "metadata": {
    "collapsed": false,
    "scrolled": true
   },
   "outputs": [
    {
     "data": {
      "image/png": "[encoded data removed]",
      "text/plain": [
       "<matplotlib.figure.Figure at 0x15e9a6d50>"
      ]
     },
     "metadata": {},
     "output_type": "display_data"
    }
   ],
   "source": [
    "plt.title(\"Feature Importances from Feature Selection with Random Forrest\")\n",
    "plt.bar(range(X.shape[1]), importances[indices],\n",
    "        color='blue', align='center')\n",
    "plt.xticks(range(X.shape[1]), feat_labels_Train, rotation=90)\n",
    "plt.xlim([-1,X.shape[1]])\n",
    "plt.ylabel('Relative Importance')\n",
    "plt.show()\n"
   ]
  }
 ],
 "metadata": {
  "anaconda-cloud": {},
  "kernelspec": {
   "display_name": "Python [conda env:py27]",
   "language": "python",
   "name": "conda-env-py27-py"
  },
  "language_info": {
   "codemirror_mode": {
    "name": "ipython",
    "version": 2
   },
   "file_extension": ".py",
   "mimetype": "text/x-python",
   "name": "python",
   "nbconvert_exporter": "python",
   "pygments_lexer": "ipython2",
   "version": "2.7.12"
  }
 },
 "nbformat": 4,
 "nbformat_minor": 1
}
